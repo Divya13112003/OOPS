{
 "cells": [
  {
   "cell_type": "code",
   "execution_count": 1,
   "id": "4a39c312-5270-440b-a7da-038013e040e2",
   "metadata": {},
   "outputs": [],
   "source": [
    "Q1.\n",
    "class vehicle:\n",
    "    \n",
    "    def __init__(self,name_of_vehicle,max_speed,average_of_vehicle):\n",
    "        self.name_of_vehicle = name_of_vehicle\n",
    "        self.max_speed = max_speed\n",
    "        self.average_of_vehicle = average_of_vehicle\n",
    "    \n",
    "    def disply(self):\n",
    "        return self.name_of_vehicle,self.max_speed,self.average_of_vehicle\n",
    "    \n",
    "    def display_name(self):\n",
    "        return self.name_of_vehicle"
   ]
  },
  {
   "cell_type": "code",
   "execution_count": 2,
   "id": "fba64a36-732a-41d0-a4d3-6cfc2c3233e1",
   "metadata": {},
   "outputs": [],
   "source": [
    "v = vehicle(\"Innova\",150,12.4)\n"
   ]
  },
  {
   "cell_type": "code",
   "execution_count": 3,
   "id": "dd91fbdd-8aeb-4e27-a915-ddddcc23f903",
   "metadata": {},
   "outputs": [
    {
     "data": {
      "text/plain": [
       "('Innova', 150, 12.4)"
      ]
     },
     "execution_count": 3,
     "metadata": {},
     "output_type": "execute_result"
    }
   ],
   "source": [
    "v.disply()"
   ]
  },
  {
   "cell_type": "code",
   "execution_count": 4,
   "id": "a7d87efc-2c90-477f-aa13-cd8868920113",
   "metadata": {},
   "outputs": [
    {
     "data": {
      "text/plain": [
       "150"
      ]
     },
     "execution_count": 4,
     "metadata": {},
     "output_type": "execute_result"
    }
   ],
   "source": [
    "v.max_speed"
   ]
  },
  {
   "cell_type": "code",
   "execution_count": 5,
   "id": "2aad0ebc-f0b0-4dc9-8cb6-34fa3bf8eee2",
   "metadata": {},
   "outputs": [
    {
     "data": {
      "text/plain": [
       "12.4"
      ]
     },
     "execution_count": 5,
     "metadata": {},
     "output_type": "execute_result"
    }
   ],
   "source": [
    "v.average_of_vehicle"
   ]
  },
  {
   "cell_type": "code",
   "execution_count": 6,
   "id": "7bfa0e64-302a-4593-9462-cc7972bd79d3",
   "metadata": {},
   "outputs": [
    {
     "data": {
      "text/plain": [
       "'Innova'"
      ]
     },
     "execution_count": 6,
     "metadata": {},
     "output_type": "execute_result"
    }
   ],
   "source": [
    "v.name_of_vehicle"
   ]
  },
  {
   "cell_type": "code",
   "execution_count": 7,
   "id": "ce0493a2-ccae-4754-a152-9d6f3ad7f5d2",
   "metadata": {},
   "outputs": [],
   "source": [
    "Q2.\n",
    "class car(vehicle):\n",
    "    def seating_capacity(self, capacity):\n",
    "        return f\"The {self.name_of_vehicle} has a seating capacity of {capacity} people.\""
   ]
  },
  {
   "cell_type": "code",
   "execution_count": 8,
   "id": "017ef47f-3c5b-4cc0-ac78-2fef91833830",
   "metadata": {},
   "outputs": [],
   "source": [
    "c = car(\"Vento\",170,16.2)"
   ]
  },
  {
   "cell_type": "code",
   "execution_count": 9,
   "id": "064836c0-765b-4503-91c0-037712dac4db",
   "metadata": {},
   "outputs": [
    {
     "data": {
      "text/plain": [
       "'The Vento has a seating capacity of 5 people.'"
      ]
     },
     "execution_count": 9,
     "metadata": {},
     "output_type": "execute_result"
    }
   ],
   "source": [
    "c.seating_capacity(5)"
   ]
  },
  {
   "cell_type": "code",
   "execution_count": null,
   "id": "37bc5e62-40c5-40f5-bc8e-a11be24daeed",
   "metadata": {},
   "outputs": [],
   "source": [
    "Q3.\n",
    "When a class can be derived from more than one base class this type of inheritance is called multiple inheritances"
   ]
  },
  {
   "cell_type": "code",
   "execution_count": 11,
   "id": "5d4b22d6-4651-4696-bedd-afbbf2b81cbb",
   "metadata": {},
   "outputs": [
    {
     "name": "stdout",
     "output_type": "stream",
     "text": [
      "Acessing Mother Class\n",
      "Acessing Father Class\n",
      "This is Child Class\n"
     ]
    }
   ],
   "source": [
    "#Base Class 1\n",
    "class Mother:\n",
    "    def fun(self):\n",
    "        print(\"Acessing Mother Class\")\n",
    "        \n",
    "#Base Class 2\n",
    "class Father:\n",
    "    def func2(self):\n",
    "        print(\"Acessing Father Class\")\n",
    "        \n",
    "#Derived Class\n",
    "class child(Mother,Father):\n",
    "    def func3(self):\n",
    "        print(\"This is Child Class\")\n",
    "    \n",
    "object = child()\n",
    "object.fun()\n",
    "object.func2()\n",
    "object.func3()"
   ]
  },
  {
   "cell_type": "code",
   "execution_count": null,
   "id": "c95dbb64-1e47-4ee9-aa84-1f59091223fd",
   "metadata": {},
   "outputs": [],
   "source": [
    "Here object of derived class is able to access the method/functions of all the base classes\n"
   ]
  },
  {
   "cell_type": "code",
   "execution_count": null,
   "id": "cbb11945-3a15-419c-87b2-f0d515d1ae20",
   "metadata": {},
   "outputs": [],
   "source": [
    "Q4.\n",
    "Getter and Setter functions, also known as property methods, are a way to encapsulate the access \n",
    "and modification of class attributes. They allow for controlled access to the attributes by\n",
    "providing methods to get (retrieve) and set (modify) their values.\n",
    "Deletor function is used to delete the property/getter function therby removing the way to\n",
    "access the private/protected variables"
   ]
  },
  {
   "cell_type": "code",
   "execution_count": 20,
   "id": "c7585b18-7f35-439f-a118-aa3ccb4c9654",
   "metadata": {},
   "outputs": [],
   "source": [
    "class college:\n",
    "    \n",
    "    def __init__(self,course_price,course_name):\n",
    "        self.__course_price = course_price\n",
    "        self.course_name = course_name\n",
    "        \n",
    "#getter method   \n",
    "    @property\n",
    "    def course_price_access(self):\n",
    "        return self.__course_price\n",
    "\n",
    "#setter method\n",
    "    @course_price_access.setter\n",
    "    def course_price_set(self,price):\n",
    "        if price<=140000:\n",
    "            pass\n",
    "        else:\n",
    "            self.__course_price = price\n",
    "\n",
    "#deletor method\n",
    "    @course_price_access.deleter\n",
    "    def course_price_del(self):\n",
    "        del self.__course_price"
   ]
  },
  {
   "cell_type": "code",
   "execution_count": 21,
   "id": "7d9f39b3-c4a0-42f6-b36c-29035ac0b611",
   "metadata": {},
   "outputs": [],
   "source": [
    "clg = college(130000,\"B.Tech\")"
   ]
  },
  {
   "cell_type": "code",
   "execution_count": 22,
   "id": "9c6af280-2ba9-4fe9-8321-f1f3d0f66d00",
   "metadata": {},
   "outputs": [
    {
     "data": {
      "text/plain": [
       "130000"
      ]
     },
     "execution_count": 22,
     "metadata": {},
     "output_type": "execute_result"
    }
   ],
   "source": [
    "#able to access price even though its private variable inside the class\n",
    "#this is possible because of getter function\n",
    "clg.course_price_access"
   ]
  },
  {
   "cell_type": "code",
   "execution_count": 23,
   "id": "06d3f167-b1ce-4ba9-b188-c52a88fbf230",
   "metadata": {},
   "outputs": [],
   "source": [
    "#setting price to private variable possible because of setter function\n",
    "clg.course_price_set = 150000"
   ]
  },
  {
   "cell_type": "code",
   "execution_count": 24,
   "id": "a1bcce0a-ef03-4145-8694-3624f5de2ff5",
   "metadata": {},
   "outputs": [
    {
     "data": {
      "text/plain": [
       "150000"
      ]
     },
     "execution_count": 24,
     "metadata": {},
     "output_type": "execute_result"
    }
   ],
   "source": [
    "clg.course_price_access\n"
   ]
  },
  {
   "cell_type": "code",
   "execution_count": 25,
   "id": "87ec1348-3d88-4d69-9d02-dc865c072349",
   "metadata": {},
   "outputs": [],
   "source": [
    "del clg.course_price_del"
   ]
  },
  {
   "cell_type": "code",
   "execution_count": 26,
   "id": "e92410f2-f440-499b-958b-5cae9813d361",
   "metadata": {},
   "outputs": [
    {
     "ename": "AttributeError",
     "evalue": "'college' object has no attribute '_college__course_price'",
     "output_type": "error",
     "traceback": [
      "\u001b[0;31m---------------------------------------------------------------------------\u001b[0m",
      "\u001b[0;31mAttributeError\u001b[0m                            Traceback (most recent call last)",
      "Cell \u001b[0;32mIn[26], line 2\u001b[0m\n\u001b[1;32m      1\u001b[0m \u001b[38;5;66;03m#error because we deleted the access with the deletor function\u001b[39;00m\n\u001b[0;32m----> 2\u001b[0m \u001b[43mclg\u001b[49m\u001b[38;5;241;43m.\u001b[39;49m\u001b[43mcourse_price_access\u001b[49m\n",
      "Cell \u001b[0;32mIn[20], line 10\u001b[0m, in \u001b[0;36mcollege.course_price_access\u001b[0;34m(self)\u001b[0m\n\u001b[1;32m      8\u001b[0m \u001b[38;5;129m@property\u001b[39m\n\u001b[1;32m      9\u001b[0m \u001b[38;5;28;01mdef\u001b[39;00m \u001b[38;5;21mcourse_price_access\u001b[39m(\u001b[38;5;28mself\u001b[39m):\n\u001b[0;32m---> 10\u001b[0m     \u001b[38;5;28;01mreturn\u001b[39;00m \u001b[38;5;28;43mself\u001b[39;49m\u001b[38;5;241;43m.\u001b[39;49m\u001b[43m__course_price\u001b[49m\n",
      "\u001b[0;31mAttributeError\u001b[0m: 'college' object has no attribute '_college__course_price'"
     ]
    }
   ],
   "source": [
    "#error because we deleted the access with the deletor function\n",
    "clg.course_price_access"
   ]
  },
  {
   "cell_type": "code",
   "execution_count": null,
   "id": "429131bc-b01c-4eb0-8643-04a0780bf048",
   "metadata": {},
   "outputs": [],
   "source": [
    "Q5.\n",
    "Method overriding in Python is a feature that allows a subclass to provide a different\n",
    "implementation of a method that is already defined in its parent class.\n",
    "When a method is overridden in the subclass, the subclass version of the method is executed \n",
    "instead of the parent class version."
   ]
  },
  {
   "cell_type": "code",
   "execution_count": 27,
   "id": "44ec3dcb-a95b-4dce-92cb-a71f18a0bf8f",
   "metadata": {},
   "outputs": [],
   "source": [
    "class Vehicle:\n",
    "\n",
    "    def display_info(self):\n",
    "        print(\"Class Vehicle\")\n",
    "\n",
    "\n",
    "class Car(Vehicle):\n",
    "\n",
    "    def display_info(self):\n",
    "        print(\"Class Car\")"
   ]
  },
  {
   "cell_type": "code",
   "execution_count": 28,
   "id": "4b8ba8b3-9546-486e-b5b8-91b8b9ab751f",
   "metadata": {},
   "outputs": [],
   "source": [
    "c = Car()"
   ]
  },
  {
   "cell_type": "code",
   "execution_count": 29,
   "id": "2e692f50-d8d0-4811-aadb-0b911368908c",
   "metadata": {},
   "outputs": [
    {
     "name": "stdout",
     "output_type": "stream",
     "text": [
      "Class Car\n"
     ]
    }
   ],
   "source": [
    "c.display_info()\n"
   ]
  },
  {
   "cell_type": "code",
   "execution_count": 30,
   "id": "ecbb2fa8-2042-488d-b832-0a9f7a1ad52b",
   "metadata": {},
   "outputs": [],
   "source": [
    "v=Vehicle()"
   ]
  },
  {
   "cell_type": "code",
   "execution_count": 31,
   "id": "de05b1e3-e078-42f5-a9d1-c3f694c06bf5",
   "metadata": {},
   "outputs": [
    {
     "name": "stdout",
     "output_type": "stream",
     "text": [
      "Class Vehicle\n"
     ]
    }
   ],
   "source": [
    "v.display_info()"
   ]
  },
  {
   "cell_type": "code",
   "execution_count": null,
   "id": "7a2943f7-644f-4d48-b609-72d6e0b05deb",
   "metadata": {},
   "outputs": [],
   "source": []
  }
 ],
 "metadata": {
  "kernelspec": {
   "display_name": "Python 3 (ipykernel)",
   "language": "python",
   "name": "python3"
  },
  "language_info": {
   "codemirror_mode": {
    "name": "ipython",
    "version": 3
   },
   "file_extension": ".py",
   "mimetype": "text/x-python",
   "name": "python",
   "nbconvert_exporter": "python",
   "pygments_lexer": "ipython3",
   "version": "3.10.8"
  }
 },
 "nbformat": 4,
 "nbformat_minor": 5
}
